{
 "cells": [
  {
   "cell_type": "markdown",
   "metadata": {
    "execution": {
     "iopub.execute_input": "2021-07-23T21:53:15.406366Z",
     "iopub.status.busy": "2021-07-23T21:53:15.406118Z",
     "iopub.status.idle": "2021-07-23T21:53:15.408884Z",
     "shell.execute_reply": "2021-07-23T21:53:15.408253Z",
     "shell.execute_reply.started": "2021-07-23T21:53:15.406344Z"
    }
   },
   "source": [
    "# Simulating Population Groups Distributed Randomly in Space"
   ]
  },
  {
   "cell_type": "markdown",
   "metadata": {},
   "source": [
    "For conducting single-value inference, the `segregation` package offer several techniques for generating random population distributions that respect the characteristics of an input dataset. This notebook walks through the assumptions and outputs of each approach"
   ]
  },
  {
   "cell_type": "markdown",
   "metadata": {},
   "source": [
    "## TL:DR:\n",
    "\n",
    "- evenness includes group-level variation\n",
    "- systematic includes unit-level variation\n",
    "- individual permutation includes neither"
   ]
  },
  {
   "cell_type": "code",
   "execution_count": 1,
   "metadata": {
    "execution": {
     "iopub.execute_input": "2021-07-24T00:45:09.810770Z",
     "iopub.status.busy": "2021-07-24T00:45:09.810558Z",
     "iopub.status.idle": "2021-07-24T00:45:15.733229Z",
     "shell.execute_reply": "2021-07-24T00:45:15.732352Z",
     "shell.execute_reply.started": "2021-07-24T00:45:09.810749Z"
    }
   },
   "outputs": [
    {
     "name": "stdout",
     "output_type": "stream",
     "text": [
      "Author: eli knaap\n",
      "\n",
      "Last updated: 2021-07-23\n",
      "\n",
      "Python implementation: CPython\n",
      "Python version       : 3.9.6\n",
      "IPython version      : 7.23.1\n",
      "\n",
      "segregation: 2.0.0\n",
      "geopandas  : 0.9.0\n",
      "geosnap    : 0.6.0\n",
      "\n"
     ]
    }
   ],
   "source": [
    "%load_ext watermark\n",
    "%watermark -a 'eli knaap' -v -d -u -p segregation,geopandas,geosnap"
   ]
  },
  {
   "cell_type": "code",
   "execution_count": 2,
   "metadata": {
    "execution": {
     "iopub.execute_input": "2021-07-24T00:45:15.734736Z",
     "iopub.status.busy": "2021-07-24T00:45:15.734487Z",
     "iopub.status.idle": "2021-07-24T00:45:15.756281Z",
     "shell.execute_reply": "2021-07-24T00:45:15.755577Z",
     "shell.execute_reply.started": "2021-07-24T00:45:15.734707Z"
    }
   },
   "outputs": [],
   "source": [
    "import pandas as pd\n",
    "import geopandas as gpd\n",
    "import numpy as np\n",
    "from segregation.singlegroup import Gini\n",
    "from segregation.inference import SingleValueTest"
   ]
  },
  {
   "cell_type": "code",
   "execution_count": 3,
   "metadata": {
    "execution": {
     "iopub.execute_input": "2021-07-24T00:45:15.757678Z",
     "iopub.status.busy": "2021-07-24T00:45:15.757244Z",
     "iopub.status.idle": "2021-07-24T00:45:48.071599Z",
     "shell.execute_reply": "2021-07-24T00:45:48.070202Z",
     "shell.execute_reply.started": "2021-07-24T00:45:15.757652Z"
    }
   },
   "outputs": [],
   "source": [
    "from geosnap import Community\n",
    "dc=Community.from_census(msa_fips='47900', years=[2010]).gdf"
   ]
  },
  {
   "cell_type": "code",
   "execution_count": 4,
   "metadata": {
    "execution": {
     "iopub.execute_input": "2021-07-24T00:45:48.073679Z",
     "iopub.status.busy": "2021-07-24T00:45:48.073225Z",
     "iopub.status.idle": "2021-07-24T00:45:48.282906Z",
     "shell.execute_reply": "2021-07-24T00:45:48.282262Z",
     "shell.execute_reply.started": "2021-07-24T00:45:48.073644Z"
    }
   },
   "outputs": [],
   "source": [
    "dc = dc.to_crs(dc.estimate_utm_crs())"
   ]
  },
  {
   "cell_type": "code",
   "execution_count": 5,
   "metadata": {
    "execution": {
     "iopub.execute_input": "2021-07-24T00:45:48.304680Z",
     "iopub.status.busy": "2021-07-24T00:45:48.304315Z",
     "iopub.status.idle": "2021-07-24T00:45:48.311151Z",
     "shell.execute_reply": "2021-07-24T00:45:48.310575Z",
     "shell.execute_reply.started": "2021-07-24T00:45:48.304652Z"
    }
   },
   "outputs": [
    {
     "data": {
      "text/plain": [
       "1426445.0"
      ]
     },
     "execution_count": 5,
     "metadata": {},
     "output_type": "execute_result"
    }
   ],
   "source": [
    "dc.n_nonhisp_black_persons.sum()"
   ]
  },
  {
   "cell_type": "code",
   "execution_count": 6,
   "metadata": {
    "execution": {
     "iopub.execute_input": "2021-07-24T00:45:48.313403Z",
     "iopub.status.busy": "2021-07-24T00:45:48.313190Z",
     "iopub.status.idle": "2021-07-24T00:45:48.317773Z",
     "shell.execute_reply": "2021-07-24T00:45:48.317214Z",
     "shell.execute_reply.started": "2021-07-24T00:45:48.313384Z"
    }
   },
   "outputs": [
    {
     "data": {
      "text/plain": [
       "5671300.0"
      ]
     },
     "execution_count": 6,
     "metadata": {},
     "output_type": "execute_result"
    }
   ],
   "source": [
    "dc.n_total_pop.sum()"
   ]
  },
  {
   "cell_type": "code",
   "execution_count": 7,
   "metadata": {
    "execution": {
     "iopub.execute_input": "2021-07-24T00:45:48.319802Z",
     "iopub.status.busy": "2021-07-24T00:45:48.319347Z",
     "iopub.status.idle": "2021-07-24T00:45:48.326258Z",
     "shell.execute_reply": "2021-07-24T00:45:48.325406Z",
     "shell.execute_reply.started": "2021-07-24T00:45:48.319765Z"
    }
   },
   "outputs": [
    {
     "data": {
      "text/plain": [
       "0.2515199337012678"
      ]
     },
     "execution_count": 7,
     "metadata": {},
     "output_type": "execute_result"
    }
   ],
   "source": [
    "dc.n_nonhisp_black_persons.sum() / dc.n_total_pop.sum()"
   ]
  },
  {
   "cell_type": "code",
   "execution_count": 8,
   "metadata": {
    "execution": {
     "iopub.execute_input": "2021-07-24T00:45:48.327582Z",
     "iopub.status.busy": "2021-07-24T00:45:48.327332Z",
     "iopub.status.idle": "2021-07-24T00:45:48.380951Z",
     "shell.execute_reply": "2021-07-24T00:45:48.380317Z",
     "shell.execute_reply.started": "2021-07-24T00:45:48.327560Z"
    }
   },
   "outputs": [],
   "source": [
    "gini = Gini(dc, group_pop_var='n_nonhisp_black_persons', total_pop_var='n_total_pop')"
   ]
  },
  {
   "cell_type": "code",
   "execution_count": 9,
   "metadata": {
    "execution": {
     "iopub.execute_input": "2021-07-24T00:45:48.382271Z",
     "iopub.status.busy": "2021-07-24T00:45:48.381979Z",
     "iopub.status.idle": "2021-07-24T00:45:48.404000Z",
     "shell.execute_reply": "2021-07-24T00:45:48.386639Z",
     "shell.execute_reply.started": "2021-07-24T00:45:48.382247Z"
    }
   },
   "outputs": [],
   "source": [
    "from segregation.inference import simulate_evenness, simulate_person_permutation, simulate_systematic_randomization, simulate_null"
   ]
  },
  {
   "cell_type": "markdown",
   "metadata": {},
   "source": [
    "## Evenness"
   ]
  },
  {
   "cell_type": "markdown",
   "metadata": {},
   "source": [
    "Evenness takes draws from the population of each unit, with the probability of choosing group X equal to its regional share (locations drawing from distributions of population groups)"
   ]
  },
  {
   "cell_type": "code",
   "execution_count": 10,
   "metadata": {
    "execution": {
     "iopub.execute_input": "2021-07-24T00:45:48.405344Z",
     "iopub.status.busy": "2021-07-24T00:45:48.405124Z",
     "iopub.status.idle": "2021-07-24T00:45:48.410151Z",
     "shell.execute_reply": "2021-07-24T00:45:48.409577Z",
     "shell.execute_reply.started": "2021-07-24T00:45:48.405323Z"
    }
   },
   "outputs": [
    {
     "data": {
      "text/plain": [
       "0.2515199337012678"
      ]
     },
     "execution_count": 10,
     "metadata": {},
     "output_type": "execute_result"
    }
   ],
   "source": [
    "# the regional share of nonhispanic black people in the DC region is ~25%\n",
    "dc.n_nonhisp_black_persons.sum() / dc.n_total_pop.sum()"
   ]
  },
  {
   "cell_type": "code",
   "execution_count": 11,
   "metadata": {
    "execution": {
     "iopub.execute_input": "2021-07-24T00:45:48.411300Z",
     "iopub.status.busy": "2021-07-24T00:45:48.411053Z",
     "iopub.status.idle": "2021-07-24T00:45:48.425299Z",
     "shell.execute_reply": "2021-07-24T00:45:48.424357Z",
     "shell.execute_reply.started": "2021-07-24T00:45:48.411280Z"
    }
   },
   "outputs": [
    {
     "data": {
      "text/html": [
       "<div>\n",
       "<style scoped>\n",
       "    .dataframe tbody tr th:only-of-type {\n",
       "        vertical-align: middle;\n",
       "    }\n",
       "\n",
       "    .dataframe tbody tr th {\n",
       "        vertical-align: top;\n",
       "    }\n",
       "\n",
       "    .dataframe thead th {\n",
       "        text-align: right;\n",
       "    }\n",
       "</style>\n",
       "<table border=\"1\" class=\"dataframe\">\n",
       "  <thead>\n",
       "    <tr style=\"text-align: right;\">\n",
       "      <th></th>\n",
       "      <th>n_total_pop</th>\n",
       "    </tr>\n",
       "  </thead>\n",
       "  <tbody>\n",
       "    <tr>\n",
       "      <th>0</th>\n",
       "      <td>6426.0</td>\n",
       "    </tr>\n",
       "    <tr>\n",
       "      <th>1</th>\n",
       "      <td>2076.0</td>\n",
       "    </tr>\n",
       "    <tr>\n",
       "      <th>2</th>\n",
       "      <td>3262.0</td>\n",
       "    </tr>\n",
       "    <tr>\n",
       "      <th>3</th>\n",
       "      <td>4472.0</td>\n",
       "    </tr>\n",
       "    <tr>\n",
       "      <th>4</th>\n",
       "      <td>5164.0</td>\n",
       "    </tr>\n",
       "  </tbody>\n",
       "</table>\n",
       "</div>"
      ],
      "text/plain": [
       "   n_total_pop\n",
       "0       6426.0\n",
       "1       2076.0\n",
       "2       3262.0\n",
       "3       4472.0\n",
       "4       5164.0"
      ]
     },
     "execution_count": 11,
     "metadata": {},
     "output_type": "execute_result"
    }
   ],
   "source": [
    "dc[['n_total_pop']].reset_index(drop=True).head()"
   ]
  },
  {
   "cell_type": "markdown",
   "metadata": {},
   "source": [
    "Taking 6426 draws for the tract 0 (a draw for each person), on each draw there's a 25% chance that the chosen person is black "
   ]
  },
  {
   "cell_type": "code",
   "execution_count": 12,
   "metadata": {
    "execution": {
     "iopub.execute_input": "2021-07-24T00:45:48.426522Z",
     "iopub.status.busy": "2021-07-24T00:45:48.426270Z",
     "iopub.status.idle": "2021-07-24T00:45:48.454316Z",
     "shell.execute_reply": "2021-07-24T00:45:48.453370Z",
     "shell.execute_reply.started": "2021-07-24T00:45:48.426501Z"
    }
   },
   "outputs": [],
   "source": [
    "evenness = simulate_evenness(dc, group='n_nonhisp_black_persons', total='n_total_pop')"
   ]
  },
  {
   "cell_type": "code",
   "execution_count": 13,
   "metadata": {
    "execution": {
     "iopub.execute_input": "2021-07-24T00:45:48.455870Z",
     "iopub.status.busy": "2021-07-24T00:45:48.455613Z",
     "iopub.status.idle": "2021-07-24T00:45:48.472230Z",
     "shell.execute_reply": "2021-07-24T00:45:48.471010Z",
     "shell.execute_reply.started": "2021-07-24T00:45:48.455846Z"
    }
   },
   "outputs": [
    {
     "data": {
      "text/html": [
       "<div>\n",
       "<style scoped>\n",
       "    .dataframe tbody tr th:only-of-type {\n",
       "        vertical-align: middle;\n",
       "    }\n",
       "\n",
       "    .dataframe tbody tr th {\n",
       "        vertical-align: top;\n",
       "    }\n",
       "\n",
       "    .dataframe thead th {\n",
       "        text-align: right;\n",
       "    }\n",
       "</style>\n",
       "<table border=\"1\" class=\"dataframe\">\n",
       "  <thead>\n",
       "    <tr style=\"text-align: right;\">\n",
       "      <th></th>\n",
       "      <th>n_nonhisp_black_persons</th>\n",
       "      <th>n_total_pop</th>\n",
       "      <th>geometry</th>\n",
       "    </tr>\n",
       "  </thead>\n",
       "  <tbody>\n",
       "    <tr>\n",
       "      <th>0</th>\n",
       "      <td>1651</td>\n",
       "      <td>6426</td>\n",
       "      <td>POLYGON ((325727.127 4312553.019, 325904.657 4...</td>\n",
       "    </tr>\n",
       "    <tr>\n",
       "      <th>1</th>\n",
       "      <td>531</td>\n",
       "      <td>2076</td>\n",
       "      <td>POLYGON ((329869.083 4307078.613, 329855.540 4...</td>\n",
       "    </tr>\n",
       "    <tr>\n",
       "      <th>2</th>\n",
       "      <td>803</td>\n",
       "      <td>3262</td>\n",
       "      <td>POLYGON ((323597.460 4315959.397, 323899.586 4...</td>\n",
       "    </tr>\n",
       "    <tr>\n",
       "      <th>3</th>\n",
       "      <td>1094</td>\n",
       "      <td>4472</td>\n",
       "      <td>POLYGON ((320037.099 4312414.480, 320698.581 4...</td>\n",
       "    </tr>\n",
       "    <tr>\n",
       "      <th>4</th>\n",
       "      <td>1278</td>\n",
       "      <td>5164</td>\n",
       "      <td>POLYGON ((319872.327 4312900.831, 319977.124 4...</td>\n",
       "    </tr>\n",
       "    <tr>\n",
       "      <th>...</th>\n",
       "      <td>...</td>\n",
       "      <td>...</td>\n",
       "      <td>...</td>\n",
       "    </tr>\n",
       "    <tr>\n",
       "      <th>1355</th>\n",
       "      <td>981</td>\n",
       "      <td>4003</td>\n",
       "      <td>POLYGON ((336209.349 4328432.396, 336301.465 4...</td>\n",
       "    </tr>\n",
       "    <tr>\n",
       "      <th>1356</th>\n",
       "      <td>330</td>\n",
       "      <td>1458</td>\n",
       "      <td>POLYGON ((317434.028 4320902.735, 317696.001 4...</td>\n",
       "    </tr>\n",
       "    <tr>\n",
       "      <th>1357</th>\n",
       "      <td>1416</td>\n",
       "      <td>5559</td>\n",
       "      <td>POLYGON ((323897.744 4330418.354, 324124.997 4...</td>\n",
       "    </tr>\n",
       "    <tr>\n",
       "      <th>1358</th>\n",
       "      <td>1013</td>\n",
       "      <td>3958</td>\n",
       "      <td>POLYGON ((306054.298 4367605.376, 306101.675 4...</td>\n",
       "    </tr>\n",
       "    <tr>\n",
       "      <th>1359</th>\n",
       "      <td>616</td>\n",
       "      <td>2402</td>\n",
       "      <td>POLYGON ((288163.792 4344458.120, 288401.686 4...</td>\n",
       "    </tr>\n",
       "  </tbody>\n",
       "</table>\n",
       "<p>1360 rows × 3 columns</p>\n",
       "</div>"
      ],
      "text/plain": [
       "      n_nonhisp_black_persons  n_total_pop  \\\n",
       "0                        1651         6426   \n",
       "1                         531         2076   \n",
       "2                         803         3262   \n",
       "3                        1094         4472   \n",
       "4                        1278         5164   \n",
       "...                       ...          ...   \n",
       "1355                      981         4003   \n",
       "1356                      330         1458   \n",
       "1357                     1416         5559   \n",
       "1358                     1013         3958   \n",
       "1359                      616         2402   \n",
       "\n",
       "                                               geometry  \n",
       "0     POLYGON ((325727.127 4312553.019, 325904.657 4...  \n",
       "1     POLYGON ((329869.083 4307078.613, 329855.540 4...  \n",
       "2     POLYGON ((323597.460 4315959.397, 323899.586 4...  \n",
       "3     POLYGON ((320037.099 4312414.480, 320698.581 4...  \n",
       "4     POLYGON ((319872.327 4312900.831, 319977.124 4...  \n",
       "...                                                 ...  \n",
       "1355  POLYGON ((336209.349 4328432.396, 336301.465 4...  \n",
       "1356  POLYGON ((317434.028 4320902.735, 317696.001 4...  \n",
       "1357  POLYGON ((323897.744 4330418.354, 324124.997 4...  \n",
       "1358  POLYGON ((306054.298 4367605.376, 306101.675 4...  \n",
       "1359  POLYGON ((288163.792 4344458.120, 288401.686 4...  \n",
       "\n",
       "[1360 rows x 3 columns]"
      ]
     },
     "execution_count": 13,
     "metadata": {},
     "output_type": "execute_result"
    }
   ],
   "source": [
    "evenness"
   ]
  },
  {
   "cell_type": "code",
   "execution_count": 14,
   "metadata": {
    "execution": {
     "iopub.execute_input": "2021-07-24T00:45:48.473808Z",
     "iopub.status.busy": "2021-07-24T00:45:48.473410Z",
     "iopub.status.idle": "2021-07-24T00:45:49.618584Z",
     "shell.execute_reply": "2021-07-24T00:45:49.617418Z",
     "shell.execute_reply.started": "2021-07-24T00:45:48.473783Z"
    }
   },
   "outputs": [
    {
     "data": {
      "text/plain": [
       "<AxesSubplot:>"
      ]
     },
     "execution_count": 14,
     "metadata": {},
     "output_type": "execute_result"
    },
    {
     "data": {
      "image/png": "[encoded data removed]",
      "text/plain": [
       "<Figure size 432x288 with 1 Axes>"
      ]
     },
     "metadata": {
      "image/png": {
       "height": 258,
       "width": 255
      },
      "needs_background": "light"
     },
     "output_type": "display_data"
    }
   ],
   "source": [
    "evenness.plot('n_nonhisp_black_persons', scheme='quantiles')"
   ]
  },
  {
   "cell_type": "code",
   "execution_count": 15,
   "metadata": {
    "execution": {
     "iopub.execute_input": "2021-07-24T00:45:49.620754Z",
     "iopub.status.busy": "2021-07-24T00:45:49.620396Z",
     "iopub.status.idle": "2021-07-24T00:45:49.625626Z",
     "shell.execute_reply": "2021-07-24T00:45:49.624927Z",
     "shell.execute_reply.started": "2021-07-24T00:45:49.620720Z"
    }
   },
   "outputs": [
    {
     "data": {
      "text/plain": [
       "1427757"
      ]
     },
     "execution_count": 15,
     "metadata": {},
     "output_type": "execute_result"
    }
   ],
   "source": [
    "evenness.n_nonhisp_black_persons.sum()"
   ]
  },
  {
   "cell_type": "code",
   "execution_count": 16,
   "metadata": {
    "execution": {
     "iopub.execute_input": "2021-07-24T00:45:49.626861Z",
     "iopub.status.busy": "2021-07-24T00:45:49.626618Z",
     "iopub.status.idle": "2021-07-24T00:45:49.631638Z",
     "shell.execute_reply": "2021-07-24T00:45:49.631113Z",
     "shell.execute_reply.started": "2021-07-24T00:45:49.626839Z"
    }
   },
   "outputs": [
    {
     "data": {
      "text/plain": [
       "False"
      ]
     },
     "execution_count": 16,
     "metadata": {},
     "output_type": "execute_result"
    }
   ],
   "source": [
    "evenness.n_nonhisp_black_persons.sum() == dc.n_nonhisp_black_persons.sum()"
   ]
  },
  {
   "cell_type": "code",
   "execution_count": 17,
   "metadata": {
    "execution": {
     "iopub.execute_input": "2021-07-24T00:45:49.632782Z",
     "iopub.status.busy": "2021-07-24T00:45:49.632512Z",
     "iopub.status.idle": "2021-07-24T00:45:49.654127Z",
     "shell.execute_reply": "2021-07-24T00:45:49.653347Z",
     "shell.execute_reply.started": "2021-07-24T00:45:49.632762Z"
    }
   },
   "outputs": [
    {
     "data": {
      "text/plain": [
       "0.2517512739583517"
      ]
     },
     "execution_count": 17,
     "metadata": {},
     "output_type": "execute_result"
    }
   ],
   "source": [
    "evenness.n_nonhisp_black_persons.sum() / evenness.n_total_pop.sum()"
   ]
  },
  {
   "cell_type": "code",
   "execution_count": 18,
   "metadata": {
    "execution": {
     "iopub.execute_input": "2021-07-24T00:45:49.656565Z",
     "iopub.status.busy": "2021-07-24T00:45:49.656221Z",
     "iopub.status.idle": "2021-07-24T00:45:49.661179Z",
     "shell.execute_reply": "2021-07-24T00:45:49.660591Z",
     "shell.execute_reply.started": "2021-07-24T00:45:49.656540Z"
    }
   },
   "outputs": [
    {
     "data": {
      "text/plain": [
       "0.2515199337012678"
      ]
     },
     "execution_count": 18,
     "metadata": {},
     "output_type": "execute_result"
    }
   ],
   "source": [
    "dc.n_nonhisp_black_persons.sum() / dc.n_total_pop.sum()"
   ]
  },
  {
   "cell_type": "code",
   "execution_count": 19,
   "metadata": {
    "execution": {
     "iopub.execute_input": "2021-07-24T00:45:49.662233Z",
     "iopub.status.busy": "2021-07-24T00:45:49.662049Z",
     "iopub.status.idle": "2021-07-24T00:45:49.666122Z",
     "shell.execute_reply": "2021-07-24T00:45:49.665609Z",
     "shell.execute_reply.started": "2021-07-24T00:45:49.662215Z"
    }
   },
   "outputs": [
    {
     "data": {
      "text/plain": [
       "False"
      ]
     },
     "execution_count": 19,
     "metadata": {},
     "output_type": "execute_result"
    }
   ],
   "source": [
    "evenness.n_nonhisp_black_persons.sum() / evenness.n_total_pop.sum() == dc.n_nonhisp_black_persons.sum() / dc.n_total_pop.sum()"
   ]
  },
  {
   "cell_type": "code",
   "execution_count": 20,
   "metadata": {
    "execution": {
     "iopub.execute_input": "2021-07-24T00:45:49.667233Z",
     "iopub.status.busy": "2021-07-24T00:45:49.667029Z",
     "iopub.status.idle": "2021-07-24T00:45:49.671398Z",
     "shell.execute_reply": "2021-07-24T00:45:49.670812Z",
     "shell.execute_reply.started": "2021-07-24T00:45:49.667213Z"
    }
   },
   "outputs": [
    {
     "data": {
      "text/plain": [
       "True"
      ]
     },
     "execution_count": 20,
     "metadata": {},
     "output_type": "execute_result"
    }
   ],
   "source": [
    "evenness.n_total_pop.sum() == dc.n_total_pop.sum()"
   ]
  },
  {
   "cell_type": "code",
   "execution_count": 21,
   "metadata": {
    "execution": {
     "iopub.execute_input": "2021-07-24T00:45:49.672623Z",
     "iopub.status.busy": "2021-07-24T00:45:49.672416Z",
     "iopub.status.idle": "2021-07-24T00:45:49.678001Z",
     "shell.execute_reply": "2021-07-24T00:45:49.677463Z",
     "shell.execute_reply.started": "2021-07-24T00:45:49.672603Z"
    }
   },
   "outputs": [
    {
     "data": {
      "text/plain": [
       "array([ True,  True,  True, ...,  True,  True,  True])"
      ]
     },
     "execution_count": 21,
     "metadata": {},
     "output_type": "execute_result"
    }
   ],
   "source": [
    "evenness.n_total_pop.values == dc.n_total_pop.values"
   ]
  },
  {
   "cell_type": "markdown",
   "metadata": {},
   "source": [
    "We haven't changed total population in each unit or the region, but we have changed the number of `group X` in the region marginally"
   ]
  },
  {
   "cell_type": "markdown",
   "metadata": {},
   "source": [
    "## Systematic Randomization"
   ]
  },
  {
   "cell_type": "markdown",
   "metadata": {},
   "source": [
    "The systematic approach takes draws from the regional population of each group, with the probability of choosing geographic unit X equal to the share of the region's population that currently lives there (people drawing from a distribution of locations)"
   ]
  },
  {
   "cell_type": "code",
   "execution_count": 22,
   "metadata": {
    "execution": {
     "iopub.execute_input": "2021-07-24T00:45:49.678993Z",
     "iopub.status.busy": "2021-07-24T00:45:49.678817Z",
     "iopub.status.idle": "2021-07-24T00:45:49.683070Z",
     "shell.execute_reply": "2021-07-24T00:45:49.682412Z",
     "shell.execute_reply.started": "2021-07-24T00:45:49.678975Z"
    }
   },
   "outputs": [
    {
     "data": {
      "text/plain": [
       "1426445.0"
      ]
     },
     "execution_count": 22,
     "metadata": {},
     "output_type": "execute_result"
    }
   ],
   "source": [
    "dc.n_nonhisp_black_persons.sum()"
   ]
  },
  {
   "cell_type": "code",
   "execution_count": 23,
   "metadata": {
    "execution": {
     "iopub.execute_input": "2021-07-24T00:45:49.706990Z",
     "iopub.status.busy": "2021-07-24T00:45:49.706753Z",
     "iopub.status.idle": "2021-07-24T00:45:49.712477Z",
     "shell.execute_reply": "2021-07-24T00:45:49.711859Z",
     "shell.execute_reply.started": "2021-07-24T00:45:49.706970Z"
    }
   },
   "outputs": [
    {
     "data": {
      "text/plain": [
       "1426445.0"
      ]
     },
     "execution_count": 23,
     "metadata": {},
     "output_type": "execute_result"
    }
   ],
   "source": [
    "1426445.0"
   ]
  },
  {
   "cell_type": "code",
   "execution_count": 24,
   "metadata": {
    "execution": {
     "iopub.execute_input": "2021-07-24T00:45:49.717101Z",
     "iopub.status.busy": "2021-07-24T00:45:49.716833Z",
     "iopub.status.idle": "2021-07-24T00:45:49.722995Z",
     "shell.execute_reply": "2021-07-24T00:45:49.722281Z",
     "shell.execute_reply.started": "2021-07-24T00:45:49.717077Z"
    }
   },
   "outputs": [
    {
     "data": {
      "text/plain": [
       "0    0.001133\n",
       "1    0.000366\n",
       "2    0.000575\n",
       "3    0.000789\n",
       "4    0.000911\n",
       "Name: n_total_pop, dtype: float64"
      ]
     },
     "execution_count": 24,
     "metadata": {},
     "output_type": "execute_result"
    }
   ],
   "source": [
    "(dc.n_total_pop / dc.n_total_pop.sum()).reset_index(drop=True).head()"
   ]
  },
  {
   "cell_type": "markdown",
   "metadata": {},
   "source": [
    "Out of 1426445 nonhispanic black people in the DC region there's a 0.1133% chance that they will live in tract 0"
   ]
  },
  {
   "cell_type": "code",
   "execution_count": 25,
   "metadata": {
    "execution": {
     "iopub.execute_input": "2021-07-24T00:45:49.725044Z",
     "iopub.status.busy": "2021-07-24T00:45:49.724742Z",
     "iopub.status.idle": "2021-07-24T00:45:49.755609Z",
     "shell.execute_reply": "2021-07-24T00:45:49.754796Z",
     "shell.execute_reply.started": "2021-07-24T00:45:49.725019Z"
    }
   },
   "outputs": [],
   "source": [
    "systematic = simulate_systematic_randomization(dc, group='n_nonhisp_black_persons', total='n_total_pop')"
   ]
  },
  {
   "cell_type": "code",
   "execution_count": 26,
   "metadata": {
    "execution": {
     "iopub.execute_input": "2021-07-24T00:45:49.756962Z",
     "iopub.status.busy": "2021-07-24T00:45:49.756745Z",
     "iopub.status.idle": "2021-07-24T00:45:49.777664Z",
     "shell.execute_reply": "2021-07-24T00:45:49.777053Z",
     "shell.execute_reply.started": "2021-07-24T00:45:49.756942Z"
    }
   },
   "outputs": [
    {
     "data": {
      "text/html": [
       "<div>\n",
       "<style scoped>\n",
       "    .dataframe tbody tr th:only-of-type {\n",
       "        vertical-align: middle;\n",
       "    }\n",
       "\n",
       "    .dataframe tbody tr th {\n",
       "        vertical-align: top;\n",
       "    }\n",
       "\n",
       "    .dataframe thead th {\n",
       "        text-align: right;\n",
       "    }\n",
       "</style>\n",
       "<table border=\"1\" class=\"dataframe\">\n",
       "  <thead>\n",
       "    <tr style=\"text-align: right;\">\n",
       "      <th></th>\n",
       "      <th>index</th>\n",
       "      <th>geometry</th>\n",
       "      <th>n_nonhisp_black_persons</th>\n",
       "      <th>other_group_pop</th>\n",
       "      <th>n_total_pop</th>\n",
       "    </tr>\n",
       "  </thead>\n",
       "  <tbody>\n",
       "    <tr>\n",
       "      <th>0</th>\n",
       "      <td>8049</td>\n",
       "      <td>POLYGON ((325727.127 4312553.019, 325904.657 4...</td>\n",
       "      <td>1625</td>\n",
       "      <td>4825</td>\n",
       "      <td>6450</td>\n",
       "    </tr>\n",
       "    <tr>\n",
       "      <th>1</th>\n",
       "      <td>8050</td>\n",
       "      <td>POLYGON ((329869.083 4307078.613, 329855.540 4...</td>\n",
       "      <td>525</td>\n",
       "      <td>1550</td>\n",
       "      <td>2075</td>\n",
       "    </tr>\n",
       "    <tr>\n",
       "      <th>2</th>\n",
       "      <td>8051</td>\n",
       "      <td>POLYGON ((323597.460 4315959.397, 323899.586 4...</td>\n",
       "      <td>772</td>\n",
       "      <td>2431</td>\n",
       "      <td>3203</td>\n",
       "    </tr>\n",
       "    <tr>\n",
       "      <th>3</th>\n",
       "      <td>8052</td>\n",
       "      <td>POLYGON ((320037.099 4312414.480, 320698.581 4...</td>\n",
       "      <td>1055</td>\n",
       "      <td>3328</td>\n",
       "      <td>4383</td>\n",
       "    </tr>\n",
       "    <tr>\n",
       "      <th>4</th>\n",
       "      <td>8053</td>\n",
       "      <td>POLYGON ((319872.327 4312900.831, 319977.124 4...</td>\n",
       "      <td>1346</td>\n",
       "      <td>3876</td>\n",
       "      <td>5222</td>\n",
       "    </tr>\n",
       "    <tr>\n",
       "      <th>...</th>\n",
       "      <td>...</td>\n",
       "      <td>...</td>\n",
       "      <td>...</td>\n",
       "      <td>...</td>\n",
       "      <td>...</td>\n",
       "    </tr>\n",
       "    <tr>\n",
       "      <th>1355</th>\n",
       "      <td>54881</td>\n",
       "      <td>POLYGON ((336209.349 4328432.396, 336301.465 4...</td>\n",
       "      <td>1061</td>\n",
       "      <td>2956</td>\n",
       "      <td>4017</td>\n",
       "    </tr>\n",
       "    <tr>\n",
       "      <th>1356</th>\n",
       "      <td>54888</td>\n",
       "      <td>POLYGON ((317434.028 4320902.735, 317696.001 4...</td>\n",
       "      <td>348</td>\n",
       "      <td>1102</td>\n",
       "      <td>1450</td>\n",
       "    </tr>\n",
       "    <tr>\n",
       "      <th>1357</th>\n",
       "      <td>54893</td>\n",
       "      <td>POLYGON ((323897.744 4330418.354, 324124.997 4...</td>\n",
       "      <td>1367</td>\n",
       "      <td>4152</td>\n",
       "      <td>5519</td>\n",
       "    </tr>\n",
       "    <tr>\n",
       "      <th>1358</th>\n",
       "      <td>54896</td>\n",
       "      <td>POLYGON ((306054.298 4367605.376, 306101.675 4...</td>\n",
       "      <td>973</td>\n",
       "      <td>2870</td>\n",
       "      <td>3843</td>\n",
       "    </tr>\n",
       "    <tr>\n",
       "      <th>1359</th>\n",
       "      <td>54897</td>\n",
       "      <td>POLYGON ((288163.792 4344458.120, 288401.686 4...</td>\n",
       "      <td>601</td>\n",
       "      <td>1799</td>\n",
       "      <td>2400</td>\n",
       "    </tr>\n",
       "  </tbody>\n",
       "</table>\n",
       "<p>1360 rows × 5 columns</p>\n",
       "</div>"
      ],
      "text/plain": [
       "      index                                           geometry  \\\n",
       "0      8049  POLYGON ((325727.127 4312553.019, 325904.657 4...   \n",
       "1      8050  POLYGON ((329869.083 4307078.613, 329855.540 4...   \n",
       "2      8051  POLYGON ((323597.460 4315959.397, 323899.586 4...   \n",
       "3      8052  POLYGON ((320037.099 4312414.480, 320698.581 4...   \n",
       "4      8053  POLYGON ((319872.327 4312900.831, 319977.124 4...   \n",
       "...     ...                                                ...   \n",
       "1355  54881  POLYGON ((336209.349 4328432.396, 336301.465 4...   \n",
       "1356  54888  POLYGON ((317434.028 4320902.735, 317696.001 4...   \n",
       "1357  54893  POLYGON ((323897.744 4330418.354, 324124.997 4...   \n",
       "1358  54896  POLYGON ((306054.298 4367605.376, 306101.675 4...   \n",
       "1359  54897  POLYGON ((288163.792 4344458.120, 288401.686 4...   \n",
       "\n",
       "      n_nonhisp_black_persons  other_group_pop  n_total_pop  \n",
       "0                        1625             4825         6450  \n",
       "1                         525             1550         2075  \n",
       "2                         772             2431         3203  \n",
       "3                        1055             3328         4383  \n",
       "4                        1346             3876         5222  \n",
       "...                       ...              ...          ...  \n",
       "1355                     1061             2956         4017  \n",
       "1356                      348             1102         1450  \n",
       "1357                     1367             4152         5519  \n",
       "1358                      973             2870         3843  \n",
       "1359                      601             1799         2400  \n",
       "\n",
       "[1360 rows x 5 columns]"
      ]
     },
     "execution_count": 26,
     "metadata": {},
     "output_type": "execute_result"
    }
   ],
   "source": [
    "systematic"
   ]
  },
  {
   "cell_type": "code",
   "execution_count": 27,
   "metadata": {
    "execution": {
     "iopub.execute_input": "2021-07-24T00:45:49.778871Z",
     "iopub.status.busy": "2021-07-24T00:45:49.778628Z",
     "iopub.status.idle": "2021-07-24T00:45:49.824038Z",
     "shell.execute_reply": "2021-07-24T00:45:49.823407Z",
     "shell.execute_reply.started": "2021-07-24T00:45:49.778851Z"
    }
   },
   "outputs": [
    {
     "data": {
      "text/plain": [
       "1426445"
      ]
     },
     "execution_count": 27,
     "metadata": {},
     "output_type": "execute_result"
    }
   ],
   "source": [
    "systematic.n_nonhisp_black_persons.sum()"
   ]
  },
  {
   "cell_type": "code",
   "execution_count": 28,
   "metadata": {
    "execution": {
     "iopub.execute_input": "2021-07-24T00:45:49.825526Z",
     "iopub.status.busy": "2021-07-24T00:45:49.825143Z",
     "iopub.status.idle": "2021-07-24T00:45:49.831669Z",
     "shell.execute_reply": "2021-07-24T00:45:49.831004Z",
     "shell.execute_reply.started": "2021-07-24T00:45:49.825476Z"
    }
   },
   "outputs": [
    {
     "data": {
      "text/plain": [
       "True"
      ]
     },
     "execution_count": 28,
     "metadata": {},
     "output_type": "execute_result"
    }
   ],
   "source": [
    "systematic.n_nonhisp_black_persons.sum() == dc.n_nonhisp_black_persons.sum()"
   ]
  },
  {
   "cell_type": "code",
   "execution_count": 29,
   "metadata": {
    "execution": {
     "iopub.execute_input": "2021-07-24T00:45:49.833029Z",
     "iopub.status.busy": "2021-07-24T00:45:49.832728Z",
     "iopub.status.idle": "2021-07-24T00:45:49.856653Z",
     "shell.execute_reply": "2021-07-24T00:45:49.855497Z",
     "shell.execute_reply.started": "2021-07-24T00:45:49.833006Z"
    }
   },
   "outputs": [
    {
     "data": {
      "text/plain": [
       "True"
      ]
     },
     "execution_count": 29,
     "metadata": {},
     "output_type": "execute_result"
    }
   ],
   "source": [
    "systematic.n_nonhisp_black_persons.sum() / systematic.n_total_pop.sum() == dc.n_nonhisp_black_persons.sum() / dc.n_total_pop.sum()"
   ]
  },
  {
   "cell_type": "code",
   "execution_count": 30,
   "metadata": {
    "execution": {
     "iopub.execute_input": "2021-07-24T00:45:49.858369Z",
     "iopub.status.busy": "2021-07-24T00:45:49.858122Z",
     "iopub.status.idle": "2021-07-24T00:45:49.886055Z",
     "shell.execute_reply": "2021-07-24T00:45:49.884762Z",
     "shell.execute_reply.started": "2021-07-24T00:45:49.858344Z"
    }
   },
   "outputs": [
    {
     "data": {
      "text/plain": [
       "array([False, False, False, ..., False, False, False])"
      ]
     },
     "execution_count": 30,
     "metadata": {},
     "output_type": "execute_result"
    }
   ],
   "source": [
    "systematic.n_total_pop.values == dc.n_total_pop.values"
   ]
  },
  {
   "cell_type": "markdown",
   "metadata": {},
   "source": [
    "We haven't changed the total number of people in each group, but we have changed the total number of people in each unit"
   ]
  },
  {
   "cell_type": "markdown",
   "metadata": {},
   "source": [
    "### Individual-level Permutation"
   ]
  },
  {
   "cell_type": "markdown",
   "metadata": {},
   "source": [
    "Individual-level permutation doesn't take draws from a probability distribution, but instead randomizes which unit each person lives in"
   ]
  },
  {
   "cell_type": "code",
   "execution_count": 31,
   "metadata": {
    "execution": {
     "iopub.execute_input": "2021-07-24T00:45:49.904327Z",
     "iopub.status.busy": "2021-07-24T00:45:49.904034Z",
     "iopub.status.idle": "2021-07-24T00:45:55.780706Z",
     "shell.execute_reply": "2021-07-24T00:45:55.779527Z",
     "shell.execute_reply.started": "2021-07-24T00:45:49.904306Z"
    }
   },
   "outputs": [],
   "source": [
    "permutation = simulate_person_permutation(dc,group='n_nonhisp_black_persons', total='n_total_pop' )"
   ]
  },
  {
   "cell_type": "code",
   "execution_count": 32,
   "metadata": {
    "execution": {
     "iopub.execute_input": "2021-07-24T00:45:55.782725Z",
     "iopub.status.busy": "2021-07-24T00:45:55.782245Z",
     "iopub.status.idle": "2021-07-24T00:45:55.806917Z",
     "shell.execute_reply": "2021-07-24T00:45:55.806269Z",
     "shell.execute_reply.started": "2021-07-24T00:45:55.782685Z"
    }
   },
   "outputs": [
    {
     "data": {
      "text/plain": [
       "1426445.0"
      ]
     },
     "execution_count": 32,
     "metadata": {},
     "output_type": "execute_result"
    }
   ],
   "source": [
    "permutation.n_nonhisp_black_persons.sum()"
   ]
  },
  {
   "cell_type": "code",
   "execution_count": 33,
   "metadata": {
    "execution": {
     "iopub.execute_input": "2021-07-24T00:45:55.808247Z",
     "iopub.status.busy": "2021-07-24T00:45:55.807973Z",
     "iopub.status.idle": "2021-07-24T00:45:55.814080Z",
     "shell.execute_reply": "2021-07-24T00:45:55.813469Z",
     "shell.execute_reply.started": "2021-07-24T00:45:55.808227Z"
    }
   },
   "outputs": [
    {
     "data": {
      "text/plain": [
       "True"
      ]
     },
     "execution_count": 33,
     "metadata": {},
     "output_type": "execute_result"
    }
   ],
   "source": [
    "permutation.n_nonhisp_black_persons.sum() == dc.n_nonhisp_black_persons.sum()"
   ]
  },
  {
   "cell_type": "code",
   "execution_count": 34,
   "metadata": {
    "execution": {
     "iopub.execute_input": "2021-07-24T00:45:55.815318Z",
     "iopub.status.busy": "2021-07-24T00:45:55.815109Z",
     "iopub.status.idle": "2021-07-24T00:45:55.821603Z",
     "shell.execute_reply": "2021-07-24T00:45:55.820981Z",
     "shell.execute_reply.started": "2021-07-24T00:45:55.815299Z"
    }
   },
   "outputs": [
    {
     "data": {
      "text/plain": [
       "True"
      ]
     },
     "execution_count": 34,
     "metadata": {},
     "output_type": "execute_result"
    }
   ],
   "source": [
    "permutation.n_nonhisp_black_persons.sum() / permutation.n_total_pop.sum() == dc.n_nonhisp_black_persons.sum() / dc.n_total_pop.sum()"
   ]
  },
  {
   "cell_type": "code",
   "execution_count": 35,
   "metadata": {
    "execution": {
     "iopub.execute_input": "2021-07-24T00:45:55.822845Z",
     "iopub.status.busy": "2021-07-24T00:45:55.822621Z",
     "iopub.status.idle": "2021-07-24T00:45:55.826670Z",
     "shell.execute_reply": "2021-07-24T00:45:55.826142Z",
     "shell.execute_reply.started": "2021-07-24T00:45:55.822824Z"
    }
   },
   "outputs": [
    {
     "data": {
      "text/plain": [
       "array([ True,  True,  True, ...,  True,  True,  True])"
      ]
     },
     "execution_count": 35,
     "metadata": {},
     "output_type": "execute_result"
    }
   ],
   "source": [
    "permutation.n_total_pop.values == dc.n_total_pop.values"
   ]
  },
  {
   "cell_type": "markdown",
   "metadata": {},
   "source": [
    "We haven't changed the total number of people in any group, or changed the total population in any unit, we've only randomized which unit each person lives in"
   ]
  },
  {
   "cell_type": "markdown",
   "metadata": {},
   "source": [
    "## Simulating Null Distributions"
   ]
  },
  {
   "cell_type": "markdown",
   "metadata": {},
   "source": [
    "The `simulate_null` generates a series of simulated segregation statistics (in parallel) using the randomization functions described above. Following, those simulated values can serve as a reference distribution to test the hypothesis of \"no segregation\""
   ]
  },
  {
   "cell_type": "code",
   "execution_count": 36,
   "metadata": {
    "execution": {
     "iopub.execute_input": "2021-07-24T00:45:55.827812Z",
     "iopub.status.busy": "2021-07-24T00:45:55.827607Z",
     "iopub.status.idle": "2021-07-24T00:45:55.831215Z",
     "shell.execute_reply": "2021-07-24T00:45:55.830626Z",
     "shell.execute_reply.started": "2021-07-24T00:45:55.827793Z"
    }
   },
   "outputs": [],
   "source": [
    "from segregation.inference import simulate_null"
   ]
  },
  {
   "cell_type": "code",
   "execution_count": 37,
   "metadata": {
    "execution": {
     "iopub.execute_input": "2021-07-24T00:45:55.832458Z",
     "iopub.status.busy": "2021-07-24T00:45:55.832148Z",
     "iopub.status.idle": "2021-07-24T00:45:55.835581Z",
     "shell.execute_reply": "2021-07-24T00:45:55.834970Z",
     "shell.execute_reply.started": "2021-07-24T00:45:55.832432Z"
    }
   },
   "outputs": [],
   "source": [
    "from segregation.singlegroup import Gini"
   ]
  },
  {
   "cell_type": "code",
   "execution_count": 38,
   "metadata": {
    "execution": {
     "iopub.execute_input": "2021-07-24T00:45:55.853626Z",
     "iopub.status.busy": "2021-07-24T00:45:55.836726Z",
     "iopub.status.idle": "2021-07-24T00:45:55.856936Z",
     "shell.execute_reply": "2021-07-24T00:45:55.856297Z",
     "shell.execute_reply.started": "2021-07-24T00:45:55.853593Z"
    }
   },
   "outputs": [],
   "source": [
    "from segregation.multigroup import MultiInfoTheory"
   ]
  },
  {
   "cell_type": "code",
   "execution_count": 39,
   "metadata": {
    "execution": {
     "iopub.execute_input": "2021-07-24T00:45:55.858081Z",
     "iopub.status.busy": "2021-07-24T00:45:55.857870Z",
     "iopub.status.idle": "2021-07-24T00:45:55.861957Z",
     "shell.execute_reply": "2021-07-24T00:45:55.861261Z",
     "shell.execute_reply.started": "2021-07-24T00:45:55.858062Z"
    }
   },
   "outputs": [],
   "source": [
    "groups = ['n_nonhisp_black_persons',\n",
    " 'n_nonhisp_white_persons',\n",
    " 'n_asian_persons',\n",
    " 'n_hispanic_persons']"
   ]
  },
  {
   "cell_type": "code",
   "execution_count": 40,
   "metadata": {
    "execution": {
     "iopub.execute_input": "2021-07-24T00:45:55.863229Z",
     "iopub.status.busy": "2021-07-24T00:45:55.863001Z",
     "iopub.status.idle": "2021-07-24T00:45:55.909326Z",
     "shell.execute_reply": "2021-07-24T00:45:55.908566Z",
     "shell.execute_reply.started": "2021-07-24T00:45:55.863206Z"
    }
   },
   "outputs": [],
   "source": [
    "G = Gini(dc, group_pop_var='n_nonhisp_black_persons', total_pop_var='n_total_pop')"
   ]
  },
  {
   "cell_type": "code",
   "execution_count": 41,
   "metadata": {
    "execution": {
     "iopub.execute_input": "2021-07-24T00:45:55.910596Z",
     "iopub.status.busy": "2021-07-24T00:45:55.910384Z",
     "iopub.status.idle": "2021-07-24T00:45:55.921029Z",
     "shell.execute_reply": "2021-07-24T00:45:55.920429Z",
     "shell.execute_reply.started": "2021-07-24T00:45:55.910576Z"
    }
   },
   "outputs": [],
   "source": [
    "H = MultiInfoTheory(dc, groups=groups)"
   ]
  },
  {
   "cell_type": "code",
   "execution_count": 42,
   "metadata": {
    "execution": {
     "iopub.execute_input": "2021-07-24T00:45:55.922641Z",
     "iopub.status.busy": "2021-07-24T00:45:55.922299Z",
     "iopub.status.idle": "2021-07-24T00:45:55.930503Z",
     "shell.execute_reply": "2021-07-24T00:45:55.929944Z",
     "shell.execute_reply.started": "2021-07-24T00:45:55.922593Z"
    }
   },
   "outputs": [
    {
     "data": {
      "text/plain": [
       "0.7343348331433938"
      ]
     },
     "execution_count": 42,
     "metadata": {},
     "output_type": "execute_result"
    }
   ],
   "source": [
    "G.statistic"
   ]
  },
  {
   "cell_type": "code",
   "execution_count": 43,
   "metadata": {
    "execution": {
     "iopub.execute_input": "2021-07-24T00:45:55.931843Z",
     "iopub.status.busy": "2021-07-24T00:45:55.931550Z",
     "iopub.status.idle": "2021-07-24T00:45:55.936098Z",
     "shell.execute_reply": "2021-07-24T00:45:55.935492Z",
     "shell.execute_reply.started": "2021-07-24T00:45:55.931822Z"
    }
   },
   "outputs": [
    {
     "data": {
      "text/plain": [
       "0.27203005459792423"
      ]
     },
     "execution_count": 43,
     "metadata": {},
     "output_type": "execute_result"
    }
   ],
   "source": [
    "H.statistic"
   ]
  },
  {
   "cell_type": "markdown",
   "metadata": {},
   "source": [
    "### Single Group"
   ]
  },
  {
   "cell_type": "code",
   "execution_count": 44,
   "metadata": {
    "execution": {
     "iopub.execute_input": "2021-07-24T00:45:55.953972Z",
     "iopub.status.busy": "2021-07-24T00:45:55.953638Z",
     "iopub.status.idle": "2021-07-24T00:46:13.811049Z",
     "shell.execute_reply": "2021-07-24T00:46:13.809608Z",
     "shell.execute_reply.started": "2021-07-24T00:45:55.953948Z"
    }
   },
   "outputs": [
    {
     "data": {
      "application/vnd.jupyter.widget-view+json": {
       "model_id": "76d2a0e30dc140eaad8356504848bef8",
       "version_major": 2,
       "version_minor": 0
      },
      "text/plain": [
       "HBox(children=(FloatProgress(value=0.0, max=500.0), HTML(value='')))"
      ]
     },
     "metadata": {},
     "output_type": "display_data"
    },
    {
     "name": "stdout",
     "output_type": "stream",
     "text": [
      "\n"
     ]
    }
   ],
   "source": [
    "G_even = simulate_null(seg_class=G, sim_func=simulate_evenness)"
   ]
  },
  {
   "cell_type": "code",
   "execution_count": 45,
   "metadata": {
    "execution": {
     "iopub.execute_input": "2021-07-24T00:46:13.813735Z",
     "iopub.status.busy": "2021-07-24T00:46:13.813192Z",
     "iopub.status.idle": "2021-07-24T00:46:19.955249Z",
     "shell.execute_reply": "2021-07-24T00:46:19.936395Z",
     "shell.execute_reply.started": "2021-07-24T00:46:13.813684Z"
    }
   },
   "outputs": [
    {
     "data": {
      "application/vnd.jupyter.widget-view+json": {
       "model_id": "6e8e500222864f1ab7d9e186a621c180",
       "version_major": 2,
       "version_minor": 0
      },
      "text/plain": [
       "HBox(children=(FloatProgress(value=0.0, max=500.0), HTML(value='')))"
      ]
     },
     "metadata": {},
     "output_type": "display_data"
    },
    {
     "name": "stdout",
     "output_type": "stream",
     "text": [
      "\n"
     ]
    }
   ],
   "source": [
    "G_systematic = simulate_null(seg_class=G, sim_func=simulate_systematic_randomization)"
   ]
  },
  {
   "cell_type": "code",
   "execution_count": 46,
   "metadata": {
    "execution": {
     "iopub.execute_input": "2021-07-24T00:46:19.958252Z",
     "iopub.status.busy": "2021-07-24T00:46:19.957882Z",
     "iopub.status.idle": "2021-07-24T00:51:52.928864Z",
     "shell.execute_reply": "2021-07-24T00:51:52.927523Z",
     "shell.execute_reply.started": "2021-07-24T00:46:19.958217Z"
    }
   },
   "outputs": [
    {
     "data": {
      "application/vnd.jupyter.widget-view+json": {
       "model_id": "2be0cfba980d41d19785f95b87e1b1ec",
       "version_major": 2,
       "version_minor": 0
      },
      "text/plain": [
       "HBox(children=(FloatProgress(value=0.0, max=500.0), HTML(value='')))"
      ]
     },
     "metadata": {},
     "output_type": "display_data"
    },
    {
     "name": "stderr",
     "output_type": "stream",
     "text": [
      "/Users/knaaptime/anaconda3/envs/segregation/lib/python3.9/site-packages/joblib/externals/loky/process_executor.py:688: UserWarning: A worker stopped while some jobs were given to the executor. This can be caused by a too short worker timeout or by a memory leak.\n",
      "  warnings.warn(\n"
     ]
    },
    {
     "name": "stdout",
     "output_type": "stream",
     "text": [
      "\n"
     ]
    }
   ],
   "source": [
    "G_permuted = simulate_null(seg_class=G, sim_func=simulate_person_permutation)"
   ]
  },
  {
   "cell_type": "code",
   "execution_count": 47,
   "metadata": {
    "execution": {
     "iopub.execute_input": "2021-07-24T00:51:52.932293Z",
     "iopub.status.busy": "2021-07-24T00:51:52.931774Z",
     "iopub.status.idle": "2021-07-24T00:51:52.955424Z",
     "shell.execute_reply": "2021-07-24T00:51:52.953966Z",
     "shell.execute_reply.started": "2021-07-24T00:51:52.932256Z"
    }
   },
   "outputs": [],
   "source": [
    "import matplotlib.pyplot as plt"
   ]
  },
  {
   "cell_type": "code",
   "execution_count": 48,
   "metadata": {
    "execution": {
     "iopub.execute_input": "2021-07-24T00:51:52.957608Z",
     "iopub.status.busy": "2021-07-24T00:51:52.957215Z",
     "iopub.status.idle": "2021-07-24T00:51:53.424267Z",
     "shell.execute_reply": "2021-07-24T00:51:53.423322Z",
     "shell.execute_reply.started": "2021-07-24T00:51:52.957577Z"
    }
   },
   "outputs": [
    {
     "data": {
      "text/plain": [
       "<AxesSubplot:ylabel='Density'>"
      ]
     },
     "execution_count": 48,
     "metadata": {},
     "output_type": "execute_result"
    },
    {
     "data": {
      "image/png": "[encoded data removed]",
      "text/plain": [
       "<Figure size 576x576 with 1 Axes>"
      ]
     },
     "metadata": {
      "image/png": {
       "height": 465,
       "width": 506
      },
      "needs_background": "light"
     },
     "output_type": "display_data"
    }
   ],
   "source": [
    "fig, ax = plt.subplots(figsize=(8,8))\n",
    "G_permuted.name='permuted'\n",
    "G_permuted.plot(kind='kde', ax=ax, legend=True)\n",
    "G_systematic.name='systematic'\n",
    "G_systematic.plot(kind='kde', ax=ax, legend=True)\n",
    "G_even.name='evenness'\n",
    "G_even.plot(kind='kde', ax=ax, legend=True)"
   ]
  },
  {
   "cell_type": "markdown",
   "metadata": {},
   "source": [
    "### Multi Group"
   ]
  },
  {
   "cell_type": "code",
   "execution_count": 49,
   "metadata": {
    "execution": {
     "iopub.execute_input": "2021-07-24T00:51:53.425848Z",
     "iopub.status.busy": "2021-07-24T00:51:53.425528Z",
     "iopub.status.idle": "2021-07-24T00:52:01.107295Z",
     "shell.execute_reply": "2021-07-24T00:52:01.105816Z",
     "shell.execute_reply.started": "2021-07-24T00:51:53.425822Z"
    },
    "tags": []
   },
   "outputs": [
    {
     "data": {
      "application/vnd.jupyter.widget-view+json": {
       "model_id": "8b4c3534252942529f62a3629afe9cb9",
       "version_major": 2,
       "version_minor": 0
      },
      "text/plain": [
       "HBox(children=(FloatProgress(value=0.0, max=500.0), HTML(value='')))"
      ]
     },
     "metadata": {},
     "output_type": "display_data"
    },
    {
     "name": "stdout",
     "output_type": "stream",
     "text": [
      "\n"
     ]
    }
   ],
   "source": [
    "H_even = simulate_null(seg_class=H, sim_func=simulate_evenness)"
   ]
  },
  {
   "cell_type": "code",
   "execution_count": 50,
   "metadata": {
    "execution": {
     "iopub.execute_input": "2021-07-24T00:52:01.109372Z",
     "iopub.status.busy": "2021-07-24T00:52:01.108890Z",
     "iopub.status.idle": "2021-07-24T00:52:05.820503Z",
     "shell.execute_reply": "2021-07-24T00:52:05.819035Z",
     "shell.execute_reply.started": "2021-07-24T00:52:01.109333Z"
    },
    "tags": []
   },
   "outputs": [
    {
     "data": {
      "application/vnd.jupyter.widget-view+json": {
       "model_id": "8e1b5e8705e843839229b7ac690ac90b",
       "version_major": 2,
       "version_minor": 0
      },
      "text/plain": [
       "HBox(children=(FloatProgress(value=0.0, max=500.0), HTML(value='')))"
      ]
     },
     "metadata": {},
     "output_type": "display_data"
    },
    {
     "name": "stdout",
     "output_type": "stream",
     "text": [
      "\n"
     ]
    }
   ],
   "source": [
    "H_systematic = simulate_null(seg_class=H, sim_func=simulate_systematic_randomization)"
   ]
  },
  {
   "cell_type": "code",
   "execution_count": 51,
   "metadata": {
    "execution": {
     "iopub.execute_input": "2021-07-24T00:52:05.822675Z",
     "iopub.status.busy": "2021-07-24T00:52:05.822199Z",
     "iopub.status.idle": "2021-07-24T00:57:47.510636Z",
     "shell.execute_reply": "2021-07-24T00:57:47.509440Z",
     "shell.execute_reply.started": "2021-07-24T00:52:05.822635Z"
    }
   },
   "outputs": [
    {
     "data": {
      "application/vnd.jupyter.widget-view+json": {
       "model_id": "0327e18ec78248248ae5e2e1b4ede521",
       "version_major": 2,
       "version_minor": 0
      },
      "text/plain": [
       "HBox(children=(FloatProgress(value=0.0, max=500.0), HTML(value='')))"
      ]
     },
     "metadata": {},
     "output_type": "display_data"
    },
    {
     "name": "stderr",
     "output_type": "stream",
     "text": [
      "/Users/knaaptime/anaconda3/envs/segregation/lib/python3.9/site-packages/joblib/externals/loky/process_executor.py:688: UserWarning: A worker stopped while some jobs were given to the executor. This can be caused by a too short worker timeout or by a memory leak.\n",
      "  warnings.warn(\n"
     ]
    },
    {
     "name": "stdout",
     "output_type": "stream",
     "text": [
      "\n"
     ]
    }
   ],
   "source": [
    "H_permuted = simulate_null(seg_class=H, sim_func=simulate_person_permutation)"
   ]
  },
  {
   "cell_type": "code",
   "execution_count": 52,
   "metadata": {
    "execution": {
     "iopub.execute_input": "2021-07-24T00:57:47.513191Z",
     "iopub.status.busy": "2021-07-24T00:57:47.512696Z",
     "iopub.status.idle": "2021-07-24T00:57:47.958984Z",
     "shell.execute_reply": "2021-07-24T00:57:47.958092Z",
     "shell.execute_reply.started": "2021-07-24T00:57:47.513146Z"
    }
   },
   "outputs": [
    {
     "data": {
      "text/plain": [
       "<AxesSubplot:ylabel='Density'>"
      ]
     },
     "execution_count": 52,
     "metadata": {},
     "output_type": "execute_result"
    },
    {
     "data": {
      "image/png": "[encoded data removed]",
      "text/plain": [
       "<Figure size 576x576 with 1 Axes>"
      ]
     },
     "metadata": {
      "image/png": {
       "height": 465,
       "width": 513
      },
      "needs_background": "light"
     },
     "output_type": "display_data"
    }
   ],
   "source": [
    "fig, ax = plt.subplots(figsize=(8,8))\n",
    "H_permuted.name='permuted'\n",
    "H_permuted.plot(kind='kde', ax=ax, legend=True)\n",
    "H_systematic.name='systematic'\n",
    "H_systematic.plot(kind='kde', ax=ax, legend=True)\n",
    "H_even.name='evenness'\n",
    "H_even.plot(kind='kde', ax=ax, legend=True)"
   ]
  },
  {
   "cell_type": "markdown",
   "metadata": {},
   "source": [
    "Despite their different methods, all three approaches simulate similar distributions, but they differ with respect to *how* and in which dimensions the randomization occurs. As with [Boisso et al](http://dx.doi.org/10.1016/0304-4076(94\\)90082-5), the distribution is not centered on 0. In other cases, such as when minority populations are small or highly unbalanced among multiple groups, its possible that the different randomization methods could diverge to simulate different distributions"
   ]
  },
  {
   "cell_type": "code",
   "execution_count": null,
   "metadata": {},
   "outputs": [],
   "source": []
  }
 ],
 "metadata": {
  "kernelspec": {
   "display_name": "Python [conda env:segregation]",
   "language": "python",
   "name": "conda-env-segregation-py"
  },
  "language_info": {
   "codemirror_mode": {
    "name": "ipython",
    "version": 3
   },
   "file_extension": ".py",
   "mimetype": "text/x-python",
   "name": "python",
   "nbconvert_exporter": "python",
   "pygments_lexer": "ipython3",
   "version": "3.9.6"
  },
  "widgets": {
   "application/vnd.jupyter.widget-state+json": {
    "state": {
     "0327e18ec78248248ae5e2e1b4ede521": {
      "model_module": "@jupyter-widgets/controls",
      "model_module_version": "1.5.0",
      "model_name": "HBoxModel",
      "state": {
       "children": [
        "IPY_MODEL_24a2500ed64a4b08a0500e36631208fd",
        "IPY_MODEL_437f7ccc3ffc4417814c87fb7fc03854"
       ],
       "layout": "IPY_MODEL_a2cab28125d94355989aa1fd77e8ecb3"
      }
     },
     "177bb8de3b80468ba8eeab8e6e4436ca": {
      "model_module": "@jupyter-widgets/controls",
      "model_module_version": "1.5.0",
      "model_name": "FloatProgressModel",
      "state": {
       "bar_style": "success",
       "description": "100%",
       "layout": "IPY_MODEL_957370df47bc4a1094076eca4efd9a45",
       "max": 500,
       "style": "IPY_MODEL_5ec2690b607f49adaec4254f9c28dbf6",
       "value": 500
      }
     },
     "1a1c393e0c494eb597e5b9496473532f": {
      "model_module": "@jupyter-widgets/controls",
      "model_module_version": "1.5.0",
      "model_name": "HTMLModel",
      "state": {
       "layout": "IPY_MODEL_5d30eed92154424d8fd8182e92ba5fa6",
       "style": "IPY_MODEL_3a4123174e6a4b05acd208f65aea5f88",
       "value": " 500/500 [05:14&lt;00:00,  1.59it/s]"
      }
     },
     "1b00db771c4e408586c733bdd5d9c7c7": {
      "model_module": "@jupyter-widgets/base",
      "model_module_version": "1.2.0",
      "model_name": "LayoutModel",
      "state": {}
     },
     "1dc10a5ab22d484f8bd9fbd41c75712b": {
      "model_module": "@jupyter-widgets/base",
      "model_module_version": "1.2.0",
      "model_name": "LayoutModel",
      "state": {}
     },
     "24a2500ed64a4b08a0500e36631208fd": {
      "model_module": "@jupyter-widgets/controls",
      "model_module_version": "1.5.0",
      "model_name": "FloatProgressModel",
      "state": {
       "bar_style": "success",
       "description": "100%",
       "layout": "IPY_MODEL_291882012408445594e371e10f644ac3",
       "max": 500,
       "style": "IPY_MODEL_cff56fab83074cc492e99184aba403f5",
       "value": 500
      }
     },
     "291882012408445594e371e10f644ac3": {
      "model_module": "@jupyter-widgets/base",
      "model_module_version": "1.2.0",
      "model_name": "LayoutModel",
      "state": {}
     },
     "2bcf703b3d7b4b88a83c279f5795b36a": {
      "model_module": "@jupyter-widgets/base",
      "model_module_version": "1.2.0",
      "model_name": "LayoutModel",
      "state": {}
     },
     "2be0cfba980d41d19785f95b87e1b1ec": {
      "model_module": "@jupyter-widgets/controls",
      "model_module_version": "1.5.0",
      "model_name": "HBoxModel",
      "state": {
       "children": [
        "IPY_MODEL_177bb8de3b80468ba8eeab8e6e4436ca",
        "IPY_MODEL_1a1c393e0c494eb597e5b9496473532f"
       ],
       "layout": "IPY_MODEL_c47d1b2f631c4d53bd833cc04560d519"
      }
     },
     "353dedcce3d34432b5fb9342f9bb3b3e": {
      "model_module": "@jupyter-widgets/controls",
      "model_module_version": "1.5.0",
      "model_name": "DescriptionStyleModel",
      "state": {
       "description_width": ""
      }
     },
     "399a9c21003e489b83e73086024483f4": {
      "model_module": "@jupyter-widgets/controls",
      "model_module_version": "1.5.0",
      "model_name": "FloatProgressModel",
      "state": {
       "bar_style": "success",
       "description": "100%",
       "layout": "IPY_MODEL_2bcf703b3d7b4b88a83c279f5795b36a",
       "max": 500,
       "style": "IPY_MODEL_58d9c164b7c64319863bba1a7f79c2f4",
       "value": 500
      }
     },
     "39c760062a7345489ea4afbcf3d70774": {
      "model_module": "@jupyter-widgets/base",
      "model_module_version": "1.2.0",
      "model_name": "LayoutModel",
      "state": {}
     },
     "3a4123174e6a4b05acd208f65aea5f88": {
      "model_module": "@jupyter-widgets/controls",
      "model_module_version": "1.5.0",
      "model_name": "DescriptionStyleModel",
      "state": {
       "description_width": ""
      }
     },
     "3d817fba18db470fad2c50abee582b18": {
      "model_module": "@jupyter-widgets/controls",
      "model_module_version": "1.5.0",
      "model_name": "DescriptionStyleModel",
      "state": {
       "description_width": ""
      }
     },
     "41cf07c28d374391913ab8963e3c202e": {
      "model_module": "@jupyter-widgets/base",
      "model_module_version": "1.2.0",
      "model_name": "LayoutModel",
      "state": {}
     },
     "42e9217ab29f4f9d87ca1307be50d948": {
      "model_module": "@jupyter-widgets/base",
      "model_module_version": "1.2.0",
      "model_name": "LayoutModel",
      "state": {}
     },
     "437f7ccc3ffc4417814c87fb7fc03854": {
      "model_module": "@jupyter-widgets/controls",
      "model_module_version": "1.5.0",
      "model_name": "HTMLModel",
      "state": {
       "layout": "IPY_MODEL_42e9217ab29f4f9d87ca1307be50d948",
       "style": "IPY_MODEL_fee9d8513d7a47bbb94aabb2ea517157",
       "value": " 500/500 [05:22&lt;00:00,  1.55it/s]"
      }
     },
     "4e79d3ecb13b4353965711c63a0fd776": {
      "model_module": "@jupyter-widgets/controls",
      "model_module_version": "1.5.0",
      "model_name": "DescriptionStyleModel",
      "state": {
       "description_width": ""
      }
     },
     "5075e33557fa46c39e5608729593f779": {
      "model_module": "@jupyter-widgets/base",
      "model_module_version": "1.2.0",
      "model_name": "LayoutModel",
      "state": {}
     },
     "544e4221369c4b5eb3ab45b5318e45d3": {
      "model_module": "@jupyter-widgets/controls",
      "model_module_version": "1.5.0",
      "model_name": "ProgressStyleModel",
      "state": {
       "description_width": "initial"
      }
     },
     "5656d3e6376e42b693eba88075cab4ba": {
      "model_module": "@jupyter-widgets/controls",
      "model_module_version": "1.5.0",
      "model_name": "DescriptionStyleModel",
      "state": {
       "description_width": ""
      }
     },
     "58d9c164b7c64319863bba1a7f79c2f4": {
      "model_module": "@jupyter-widgets/controls",
      "model_module_version": "1.5.0",
      "model_name": "ProgressStyleModel",
      "state": {
       "description_width": "initial"
      }
     },
     "5c1e1dd80b994c529851a142a0d1a96f": {
      "model_module": "@jupyter-widgets/controls",
      "model_module_version": "1.5.0",
      "model_name": "FloatProgressModel",
      "state": {
       "bar_style": "success",
       "description": "100%",
       "layout": "IPY_MODEL_aaf1f43c8c4841f98ae1ff74e0b65273",
       "max": 500,
       "style": "IPY_MODEL_544e4221369c4b5eb3ab45b5318e45d3",
       "value": 500
      }
     },
     "5d30eed92154424d8fd8182e92ba5fa6": {
      "model_module": "@jupyter-widgets/base",
      "model_module_version": "1.2.0",
      "model_name": "LayoutModel",
      "state": {}
     },
     "5ec2690b607f49adaec4254f9c28dbf6": {
      "model_module": "@jupyter-widgets/controls",
      "model_module_version": "1.5.0",
      "model_name": "ProgressStyleModel",
      "state": {
       "description_width": "initial"
      }
     },
     "6077aecb80634cf6981b77eeb3e993cf": {
      "model_module": "@jupyter-widgets/base",
      "model_module_version": "1.2.0",
      "model_name": "LayoutModel",
      "state": {}
     },
     "6965d337367a478995eaffc725e9575c": {
      "model_module": "@jupyter-widgets/base",
      "model_module_version": "1.2.0",
      "model_name": "LayoutModel",
      "state": {}
     },
     "6e8e500222864f1ab7d9e186a621c180": {
      "model_module": "@jupyter-widgets/controls",
      "model_module_version": "1.5.0",
      "model_name": "HBoxModel",
      "state": {
       "children": [
        "IPY_MODEL_88619722e21644429253a9628e026c04",
        "IPY_MODEL_af94886bfea54f928a106a30433a85ca"
       ],
       "layout": "IPY_MODEL_6965d337367a478995eaffc725e9575c"
      }
     },
     "76d2a0e30dc140eaad8356504848bef8": {
      "model_module": "@jupyter-widgets/controls",
      "model_module_version": "1.5.0",
      "model_name": "HBoxModel",
      "state": {
       "children": [
        "IPY_MODEL_399a9c21003e489b83e73086024483f4",
        "IPY_MODEL_896e5b6417ee4eda87995531199f7192"
       ],
       "layout": "IPY_MODEL_7c087af3faad4287bc6f8dcf0a9d0104"
      }
     },
     "7c087af3faad4287bc6f8dcf0a9d0104": {
      "model_module": "@jupyter-widgets/base",
      "model_module_version": "1.2.0",
      "model_name": "LayoutModel",
      "state": {}
     },
     "88619722e21644429253a9628e026c04": {
      "model_module": "@jupyter-widgets/controls",
      "model_module_version": "1.5.0",
      "model_name": "FloatProgressModel",
      "state": {
       "bar_style": "success",
       "description": "100%",
       "layout": "IPY_MODEL_1dc10a5ab22d484f8bd9fbd41c75712b",
       "max": 500,
       "style": "IPY_MODEL_8a62ac506f3f47e6b9327a0219d6983d",
       "value": 500
      }
     },
     "896e5b6417ee4eda87995531199f7192": {
      "model_module": "@jupyter-widgets/controls",
      "model_module_version": "1.5.0",
      "model_name": "HTMLModel",
      "state": {
       "layout": "IPY_MODEL_6077aecb80634cf6981b77eeb3e993cf",
       "style": "IPY_MODEL_3d817fba18db470fad2c50abee582b18",
       "value": " 500/500 [00:17&lt;00:00, 28.94it/s]"
      }
     },
     "8a62ac506f3f47e6b9327a0219d6983d": {
      "model_module": "@jupyter-widgets/controls",
      "model_module_version": "1.5.0",
      "model_name": "ProgressStyleModel",
      "state": {
       "description_width": "initial"
      }
     },
     "8b4c3534252942529f62a3629afe9cb9": {
      "model_module": "@jupyter-widgets/controls",
      "model_module_version": "1.5.0",
      "model_name": "HBoxModel",
      "state": {
       "children": [
        "IPY_MODEL_5c1e1dd80b994c529851a142a0d1a96f",
        "IPY_MODEL_c97c737f8a69440d951a80ee2cbe7ba0"
       ],
       "layout": "IPY_MODEL_cb02bfdb9a9648119ff6f8128bf5d256"
      }
     },
     "8e1b5e8705e843839229b7ac690ac90b": {
      "model_module": "@jupyter-widgets/controls",
      "model_module_version": "1.5.0",
      "model_name": "HBoxModel",
      "state": {
       "children": [
        "IPY_MODEL_d9fb337e66a648d680eb2df1986c8f53",
        "IPY_MODEL_bdd119deccab42ee8b7597ff27c85986"
       ],
       "layout": "IPY_MODEL_41cf07c28d374391913ab8963e3c202e"
      }
     },
     "957370df47bc4a1094076eca4efd9a45": {
      "model_module": "@jupyter-widgets/base",
      "model_module_version": "1.2.0",
      "model_name": "LayoutModel",
      "state": {}
     },
     "a2cab28125d94355989aa1fd77e8ecb3": {
      "model_module": "@jupyter-widgets/base",
      "model_module_version": "1.2.0",
      "model_name": "LayoutModel",
      "state": {}
     },
     "aaf1f43c8c4841f98ae1ff74e0b65273": {
      "model_module": "@jupyter-widgets/base",
      "model_module_version": "1.2.0",
      "model_name": "LayoutModel",
      "state": {}
     },
     "af94886bfea54f928a106a30433a85ca": {
      "model_module": "@jupyter-widgets/controls",
      "model_module_version": "1.5.0",
      "model_name": "HTMLModel",
      "state": {
       "layout": "IPY_MODEL_5075e33557fa46c39e5608729593f779",
       "style": "IPY_MODEL_353dedcce3d34432b5fb9342f9bb3b3e",
       "value": " 500/500 [00:05&lt;00:00, 95.92it/s]"
      }
     },
     "bdd119deccab42ee8b7597ff27c85986": {
      "model_module": "@jupyter-widgets/controls",
      "model_module_version": "1.5.0",
      "model_name": "HTMLModel",
      "state": {
       "layout": "IPY_MODEL_c66824a2a1a541608a45cb61c1e34dac",
       "style": "IPY_MODEL_4e79d3ecb13b4353965711c63a0fd776",
       "value": " 500/500 [00:03&lt;00:00, 126.21it/s]"
      }
     },
     "c47d1b2f631c4d53bd833cc04560d519": {
      "model_module": "@jupyter-widgets/base",
      "model_module_version": "1.2.0",
      "model_name": "LayoutModel",
      "state": {}
     },
     "c66824a2a1a541608a45cb61c1e34dac": {
      "model_module": "@jupyter-widgets/base",
      "model_module_version": "1.2.0",
      "model_name": "LayoutModel",
      "state": {}
     },
     "c97c737f8a69440d951a80ee2cbe7ba0": {
      "model_module": "@jupyter-widgets/controls",
      "model_module_version": "1.5.0",
      "model_name": "HTMLModel",
      "state": {
       "layout": "IPY_MODEL_39c760062a7345489ea4afbcf3d70774",
       "style": "IPY_MODEL_5656d3e6376e42b693eba88075cab4ba",
       "value": " 500/500 [00:09&lt;00:00, 55.03it/s]"
      }
     },
     "cb02bfdb9a9648119ff6f8128bf5d256": {
      "model_module": "@jupyter-widgets/base",
      "model_module_version": "1.2.0",
      "model_name": "LayoutModel",
      "state": {}
     },
     "cff56fab83074cc492e99184aba403f5": {
      "model_module": "@jupyter-widgets/controls",
      "model_module_version": "1.5.0",
      "model_name": "ProgressStyleModel",
      "state": {
       "description_width": "initial"
      }
     },
     "d9fb337e66a648d680eb2df1986c8f53": {
      "model_module": "@jupyter-widgets/controls",
      "model_module_version": "1.5.0",
      "model_name": "FloatProgressModel",
      "state": {
       "bar_style": "success",
       "description": "100%",
       "layout": "IPY_MODEL_1b00db771c4e408586c733bdd5d9c7c7",
       "max": 500,
       "style": "IPY_MODEL_f3bfaa0c862e49529216e61cc9324463",
       "value": 500
      }
     },
     "f3bfaa0c862e49529216e61cc9324463": {
      "model_module": "@jupyter-widgets/controls",
      "model_module_version": "1.5.0",
      "model_name": "ProgressStyleModel",
      "state": {
       "description_width": "initial"
      }
     },
     "fee9d8513d7a47bbb94aabb2ea517157": {
      "model_module": "@jupyter-widgets/controls",
      "model_module_version": "1.5.0",
      "model_name": "DescriptionStyleModel",
      "state": {
       "description_width": ""
      }
     }
    },
    "version_major": 2,
    "version_minor": 0
   }
  }
 },
 "nbformat": 4,
 "nbformat_minor": 5
}
